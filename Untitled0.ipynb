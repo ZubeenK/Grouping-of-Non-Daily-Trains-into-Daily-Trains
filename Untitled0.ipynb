{
  "nbformat": 4,
  "nbformat_minor": 0,
  "metadata": {
    "colab": {
      "name": "Untitled0.ipynb",
      "provenance": [],
      "collapsed_sections": [],
      "toc_visible": true
    },
    "kernelspec": {
      "name": "python3",
      "display_name": "Python 3"
    },
    "language_info": {
      "name": "python"
    }
  },
  "cells": [
    {
      "cell_type": "code",
      "metadata": {
        "id": "CDoXGV3i-JkP"
      },
      "source": [
        "import pandas as pd"
      ],
      "execution_count": 36,
      "outputs": []
    },
    {
      "cell_type": "code",
      "metadata": {
        "colab": {
          "base_uri": "https://localhost:8080/"
        },
        "id": "3soeqUnx-MH-",
        "outputId": "e0b77f5b-3f74-4622-a6c7-cf01b92ad745"
      },
      "source": [
        "data = pd.read_csv('a.csv')\n",
        "data.shape"
      ],
      "execution_count": 37,
      "outputs": [
        {
          "output_type": "execute_result",
          "data": {
            "text/plain": [
              "(340, 3)"
            ]
          },
          "metadata": {
            "tags": []
          },
          "execution_count": 37
        }
      ]
    },
    {
      "cell_type": "code",
      "metadata": {
        "colab": {
          "base_uri": "https://localhost:8080/"
        },
        "id": "dGlGH1csB21K",
        "outputId": "8b199091-0ae6-4bc9-e2df-70ef76909429"
      },
      "source": [
        "data.isna().sum()"
      ],
      "execution_count": 38,
      "outputs": [
        {
          "output_type": "execute_result",
          "data": {
            "text/plain": [
              "Train ID      0\n",
              "Weekdays      0\n",
              "Cluster No    0\n",
              "dtype: int64"
            ]
          },
          "metadata": {
            "tags": []
          },
          "execution_count": 38
        }
      ]
    },
    {
      "cell_type": "code",
      "metadata": {
        "colab": {
          "base_uri": "https://localhost:8080/",
          "height": 196
        },
        "id": "Vx_of6Li-h0J",
        "outputId": "995a7b05-bf7c-41e1-cb0f-c4c409eb8d1b"
      },
      "source": [
        "data.head()"
      ],
      "execution_count": 39,
      "outputs": [
        {
          "output_type": "execute_result",
          "data": {
            "text/html": [
              "<div>\n",
              "<style scoped>\n",
              "    .dataframe tbody tr th:only-of-type {\n",
              "        vertical-align: middle;\n",
              "    }\n",
              "\n",
              "    .dataframe tbody tr th {\n",
              "        vertical-align: top;\n",
              "    }\n",
              "\n",
              "    .dataframe thead th {\n",
              "        text-align: right;\n",
              "    }\n",
              "</style>\n",
              "<table border=\"1\" class=\"dataframe\">\n",
              "  <thead>\n",
              "    <tr style=\"text-align: right;\">\n",
              "      <th></th>\n",
              "      <th>Train ID</th>\n",
              "      <th>Weekdays</th>\n",
              "      <th>Cluster No</th>\n",
              "    </tr>\n",
              "  </thead>\n",
              "  <tbody>\n",
              "    <tr>\n",
              "      <th>0</th>\n",
              "      <td>11045</td>\n",
              "      <td>0,0,0,0,0,1,0</td>\n",
              "      <td>19</td>\n",
              "    </tr>\n",
              "    <tr>\n",
              "      <th>1</th>\n",
              "      <td>11050</td>\n",
              "      <td>0,0,0,0,0,1,0</td>\n",
              "      <td>0</td>\n",
              "    </tr>\n",
              "    <tr>\n",
              "      <th>2</th>\n",
              "      <td>11079</td>\n",
              "      <td>0,0,0,0,1,0,0</td>\n",
              "      <td>2</td>\n",
              "    </tr>\n",
              "    <tr>\n",
              "      <th>3</th>\n",
              "      <td>11088</td>\n",
              "      <td>0,0,0,1,0,0,0</td>\n",
              "      <td>0</td>\n",
              "    </tr>\n",
              "    <tr>\n",
              "      <th>4</th>\n",
              "      <td>11090</td>\n",
              "      <td>0,0,0,0,0,0,1</td>\n",
              "      <td>0</td>\n",
              "    </tr>\n",
              "  </tbody>\n",
              "</table>\n",
              "</div>"
            ],
            "text/plain": [
              "   Train ID       Weekdays  Cluster No\n",
              "0     11045  0,0,0,0,0,1,0          19\n",
              "1     11050  0,0,0,0,0,1,0           0\n",
              "2     11079  0,0,0,0,1,0,0           2\n",
              "3     11088  0,0,0,1,0,0,0           0\n",
              "4     11090  0,0,0,0,0,0,1           0"
            ]
          },
          "metadata": {
            "tags": []
          },
          "execution_count": 39
        }
      ]
    },
    {
      "cell_type": "code",
      "metadata": {
        "colab": {
          "base_uri": "https://localhost:8080/",
          "height": 196
        },
        "id": "bQO19fLM_Eyf",
        "outputId": "86a8f096-7a56-4ae8-98a8-65d7251bb2f9"
      },
      "source": [
        "def convert_comma_sep_to_string(s):\n",
        "  return ''.join(s.split(','))\n",
        "\n",
        "data['week'] = data['Weekdays'].apply(lambda x: convert_comma_sep_to_string(x))\n",
        "data.head()"
      ],
      "execution_count": 40,
      "outputs": [
        {
          "output_type": "execute_result",
          "data": {
            "text/html": [
              "<div>\n",
              "<style scoped>\n",
              "    .dataframe tbody tr th:only-of-type {\n",
              "        vertical-align: middle;\n",
              "    }\n",
              "\n",
              "    .dataframe tbody tr th {\n",
              "        vertical-align: top;\n",
              "    }\n",
              "\n",
              "    .dataframe thead th {\n",
              "        text-align: right;\n",
              "    }\n",
              "</style>\n",
              "<table border=\"1\" class=\"dataframe\">\n",
              "  <thead>\n",
              "    <tr style=\"text-align: right;\">\n",
              "      <th></th>\n",
              "      <th>Train ID</th>\n",
              "      <th>Weekdays</th>\n",
              "      <th>Cluster No</th>\n",
              "      <th>week</th>\n",
              "    </tr>\n",
              "  </thead>\n",
              "  <tbody>\n",
              "    <tr>\n",
              "      <th>0</th>\n",
              "      <td>11045</td>\n",
              "      <td>0,0,0,0,0,1,0</td>\n",
              "      <td>19</td>\n",
              "      <td>0000010</td>\n",
              "    </tr>\n",
              "    <tr>\n",
              "      <th>1</th>\n",
              "      <td>11050</td>\n",
              "      <td>0,0,0,0,0,1,0</td>\n",
              "      <td>0</td>\n",
              "      <td>0000010</td>\n",
              "    </tr>\n",
              "    <tr>\n",
              "      <th>2</th>\n",
              "      <td>11079</td>\n",
              "      <td>0,0,0,0,1,0,0</td>\n",
              "      <td>2</td>\n",
              "      <td>0000100</td>\n",
              "    </tr>\n",
              "    <tr>\n",
              "      <th>3</th>\n",
              "      <td>11088</td>\n",
              "      <td>0,0,0,1,0,0,0</td>\n",
              "      <td>0</td>\n",
              "      <td>0001000</td>\n",
              "    </tr>\n",
              "    <tr>\n",
              "      <th>4</th>\n",
              "      <td>11090</td>\n",
              "      <td>0,0,0,0,0,0,1</td>\n",
              "      <td>0</td>\n",
              "      <td>0000001</td>\n",
              "    </tr>\n",
              "  </tbody>\n",
              "</table>\n",
              "</div>"
            ],
            "text/plain": [
              "   Train ID       Weekdays  Cluster No     week\n",
              "0     11045  0,0,0,0,0,1,0          19  0000010\n",
              "1     11050  0,0,0,0,0,1,0           0  0000010\n",
              "2     11079  0,0,0,0,1,0,0           2  0000100\n",
              "3     11088  0,0,0,1,0,0,0           0  0001000\n",
              "4     11090  0,0,0,0,0,0,1           0  0000001"
            ]
          },
          "metadata": {
            "tags": []
          },
          "execution_count": 40
        }
      ]
    },
    {
      "cell_type": "code",
      "metadata": {
        "colab": {
          "base_uri": "https://localhost:8080/",
          "height": 196
        },
        "id": "V9ePSjS2_tGa",
        "outputId": "4d956d04-9385-4096-b4f0-fc5447a2fd42"
      },
      "source": [
        "def get_opposite_of_week(s):\n",
        "  new = ''\n",
        "  for char in s:\n",
        "    if char == '0':\n",
        "      new = new + '1'\n",
        "    else:\n",
        "      new = new + '0'\n",
        "  return new\n",
        "\n",
        "data['week_complement'] = data['week'].apply(lambda x: get_opposite_of_week(x))\n",
        "data.head()"
      ],
      "execution_count": 41,
      "outputs": [
        {
          "output_type": "execute_result",
          "data": {
            "text/html": [
              "<div>\n",
              "<style scoped>\n",
              "    .dataframe tbody tr th:only-of-type {\n",
              "        vertical-align: middle;\n",
              "    }\n",
              "\n",
              "    .dataframe tbody tr th {\n",
              "        vertical-align: top;\n",
              "    }\n",
              "\n",
              "    .dataframe thead th {\n",
              "        text-align: right;\n",
              "    }\n",
              "</style>\n",
              "<table border=\"1\" class=\"dataframe\">\n",
              "  <thead>\n",
              "    <tr style=\"text-align: right;\">\n",
              "      <th></th>\n",
              "      <th>Train ID</th>\n",
              "      <th>Weekdays</th>\n",
              "      <th>Cluster No</th>\n",
              "      <th>week</th>\n",
              "      <th>week_complement</th>\n",
              "    </tr>\n",
              "  </thead>\n",
              "  <tbody>\n",
              "    <tr>\n",
              "      <th>0</th>\n",
              "      <td>11045</td>\n",
              "      <td>0,0,0,0,0,1,0</td>\n",
              "      <td>19</td>\n",
              "      <td>0000010</td>\n",
              "      <td>1111101</td>\n",
              "    </tr>\n",
              "    <tr>\n",
              "      <th>1</th>\n",
              "      <td>11050</td>\n",
              "      <td>0,0,0,0,0,1,0</td>\n",
              "      <td>0</td>\n",
              "      <td>0000010</td>\n",
              "      <td>1111101</td>\n",
              "    </tr>\n",
              "    <tr>\n",
              "      <th>2</th>\n",
              "      <td>11079</td>\n",
              "      <td>0,0,0,0,1,0,0</td>\n",
              "      <td>2</td>\n",
              "      <td>0000100</td>\n",
              "      <td>1111011</td>\n",
              "    </tr>\n",
              "    <tr>\n",
              "      <th>3</th>\n",
              "      <td>11088</td>\n",
              "      <td>0,0,0,1,0,0,0</td>\n",
              "      <td>0</td>\n",
              "      <td>0001000</td>\n",
              "      <td>1110111</td>\n",
              "    </tr>\n",
              "    <tr>\n",
              "      <th>4</th>\n",
              "      <td>11090</td>\n",
              "      <td>0,0,0,0,0,0,1</td>\n",
              "      <td>0</td>\n",
              "      <td>0000001</td>\n",
              "      <td>1111110</td>\n",
              "    </tr>\n",
              "  </tbody>\n",
              "</table>\n",
              "</div>"
            ],
            "text/plain": [
              "   Train ID       Weekdays  Cluster No     week week_complement\n",
              "0     11045  0,0,0,0,0,1,0          19  0000010         1111101\n",
              "1     11050  0,0,0,0,0,1,0           0  0000010         1111101\n",
              "2     11079  0,0,0,0,1,0,0           2  0000100         1111011\n",
              "3     11088  0,0,0,1,0,0,0           0  0001000         1110111\n",
              "4     11090  0,0,0,0,0,0,1           0  0000001         1111110"
            ]
          },
          "metadata": {
            "tags": []
          },
          "execution_count": 41
        }
      ]
    },
    {
      "cell_type": "code",
      "metadata": {
        "id": "oKYestyLCb4s"
      },
      "source": [
        "def distance(str1, str2):\n",
        "  count = 0\n",
        "  for index in range(0, len(str1)):\n",
        "    if str1[index] == str2[index]:\n",
        "      count = count + 1\n",
        "  return count\n",
        "\n",
        "# example - distance('1111101', '0001000') = 2"
      ],
      "execution_count": 42,
      "outputs": []
    },
    {
      "cell_type": "code",
      "metadata": {
        "colab": {
          "base_uri": "https://localhost:8080/",
          "height": 196
        },
        "id": "t5HKykYPBXBj",
        "outputId": "ece35360-7a90-4a86-fec7-cf3f76d02fa3"
      },
      "source": [
        "def find_complement(x):\n",
        "  # /**\n",
        "  # This will receive a pandas row.\n",
        "  # For each row, a list will be calculated - list of tuples (trainId, distance)\n",
        "  # */\n",
        "  # print(x)\n",
        "  tuple_list = []\n",
        "  subset_Df = data.loc[data['Cluster No'] == x['Cluster No']]\n",
        "  trainsInSameCluster = subset_Df['Train ID'].unique()\n",
        "  # print(trainsInSameCluster)\n",
        "\n",
        "  i = 0\n",
        "  for train in trainsInSameCluster:\n",
        "    # compare a trains week_complement with all other train weeks in same cluster.\n",
        "    baseTraincomplement = x['week_complement']\n",
        "    compareWithTrainWeek = data.loc[data['Train ID'] == train].iloc[0]['week']\n",
        "    \n",
        "    # i = i + 1 FOR DEBUGGING\n",
        "    # if i < 2:\n",
        "    #   print(str(baseTraincomplement) + ' train id - ' + str(train) + ' week ' + str(compareWithTrainWeek))\n",
        "    \n",
        "    dist = distance(baseTraincomplement, compareWithTrainWeek)\n",
        "    train_tuple = (train, dist)\n",
        "    tuple_list.append(train_tuple)\n",
        "  \n",
        "  return tuple_list\n",
        "\n",
        "data['complement'] = data.apply(lambda x: find_complement(x), axis=1) # row by row execute match function\n",
        "data.head() "
      ],
      "execution_count": 43,
      "outputs": [
        {
          "output_type": "execute_result",
          "data": {
            "text/html": [
              "<div>\n",
              "<style scoped>\n",
              "    .dataframe tbody tr th:only-of-type {\n",
              "        vertical-align: middle;\n",
              "    }\n",
              "\n",
              "    .dataframe tbody tr th {\n",
              "        vertical-align: top;\n",
              "    }\n",
              "\n",
              "    .dataframe thead th {\n",
              "        text-align: right;\n",
              "    }\n",
              "</style>\n",
              "<table border=\"1\" class=\"dataframe\">\n",
              "  <thead>\n",
              "    <tr style=\"text-align: right;\">\n",
              "      <th></th>\n",
              "      <th>Train ID</th>\n",
              "      <th>Weekdays</th>\n",
              "      <th>Cluster No</th>\n",
              "      <th>week</th>\n",
              "      <th>week_complement</th>\n",
              "      <th>complement</th>\n",
              "    </tr>\n",
              "  </thead>\n",
              "  <tbody>\n",
              "    <tr>\n",
              "      <th>0</th>\n",
              "      <td>11045</td>\n",
              "      <td>0,0,0,0,0,1,0</td>\n",
              "      <td>19</td>\n",
              "      <td>0000010</td>\n",
              "      <td>1111101</td>\n",
              "      <td>[(11045, 0), (17610, 2)]</td>\n",
              "    </tr>\n",
              "    <tr>\n",
              "      <th>1</th>\n",
              "      <td>11050</td>\n",
              "      <td>0,0,0,0,0,1,0</td>\n",
              "      <td>0</td>\n",
              "      <td>0000010</td>\n",
              "      <td>1111101</td>\n",
              "      <td>[(11050, 0), (11088, 2), (11090, 2), (11092, 2...</td>\n",
              "    </tr>\n",
              "    <tr>\n",
              "      <th>2</th>\n",
              "      <td>11079</td>\n",
              "      <td>0,0,0,0,1,0,0</td>\n",
              "      <td>2</td>\n",
              "      <td>0000100</td>\n",
              "      <td>1111011</td>\n",
              "      <td>[(11079, 0), (11407, 2), (12103, 2), (12107, 4...</td>\n",
              "    </tr>\n",
              "    <tr>\n",
              "      <th>3</th>\n",
              "      <td>11088</td>\n",
              "      <td>0,0,0,1,0,0,0</td>\n",
              "      <td>0</td>\n",
              "      <td>0001000</td>\n",
              "      <td>1110111</td>\n",
              "      <td>[(11050, 2), (11088, 0), (11090, 2), (11092, 2...</td>\n",
              "    </tr>\n",
              "    <tr>\n",
              "      <th>4</th>\n",
              "      <td>11090</td>\n",
              "      <td>0,0,0,0,0,0,1</td>\n",
              "      <td>0</td>\n",
              "      <td>0000001</td>\n",
              "      <td>1111110</td>\n",
              "      <td>[(11050, 2), (11088, 2), (11090, 0), (11092, 2...</td>\n",
              "    </tr>\n",
              "  </tbody>\n",
              "</table>\n",
              "</div>"
            ],
            "text/plain": [
              "   Train ID  ...                                         complement\n",
              "0     11045  ...                           [(11045, 0), (17610, 2)]\n",
              "1     11050  ...  [(11050, 0), (11088, 2), (11090, 2), (11092, 2...\n",
              "2     11079  ...  [(11079, 0), (11407, 2), (12103, 2), (12107, 4...\n",
              "3     11088  ...  [(11050, 2), (11088, 0), (11090, 2), (11092, 2...\n",
              "4     11090  ...  [(11050, 2), (11088, 2), (11090, 0), (11092, 2...\n",
              "\n",
              "[5 rows x 6 columns]"
            ]
          },
          "metadata": {
            "tags": []
          },
          "execution_count": 43
        }
      ]
    },
    {
      "cell_type": "markdown",
      "metadata": {
        "id": "eJ-p105sD8Uq"
      },
      "source": [
        ""
      ]
    },
    {
      "cell_type": "code",
      "metadata": {
        "colab": {
          "base_uri": "https://localhost:8080/",
          "height": 196
        },
        "id": "gXEhgvJvl2D5",
        "outputId": "fcd7b626-cae4-4d14-ee7a-96b532d84f73"
      },
      "source": [
        "data['complement'] = data['complement'].apply(lambda full_list: sorted(full_list, key=lambda item: item[1], reverse=True))\n",
        "data.head()"
      ],
      "execution_count": 44,
      "outputs": [
        {
          "output_type": "execute_result",
          "data": {
            "text/html": [
              "<div>\n",
              "<style scoped>\n",
              "    .dataframe tbody tr th:only-of-type {\n",
              "        vertical-align: middle;\n",
              "    }\n",
              "\n",
              "    .dataframe tbody tr th {\n",
              "        vertical-align: top;\n",
              "    }\n",
              "\n",
              "    .dataframe thead th {\n",
              "        text-align: right;\n",
              "    }\n",
              "</style>\n",
              "<table border=\"1\" class=\"dataframe\">\n",
              "  <thead>\n",
              "    <tr style=\"text-align: right;\">\n",
              "      <th></th>\n",
              "      <th>Train ID</th>\n",
              "      <th>Weekdays</th>\n",
              "      <th>Cluster No</th>\n",
              "      <th>week</th>\n",
              "      <th>week_complement</th>\n",
              "      <th>complement</th>\n",
              "    </tr>\n",
              "  </thead>\n",
              "  <tbody>\n",
              "    <tr>\n",
              "      <th>0</th>\n",
              "      <td>11045</td>\n",
              "      <td>0,0,0,0,0,1,0</td>\n",
              "      <td>19</td>\n",
              "      <td>0000010</td>\n",
              "      <td>1111101</td>\n",
              "      <td>[(17610, 2), (11045, 0)]</td>\n",
              "    </tr>\n",
              "    <tr>\n",
              "      <th>1</th>\n",
              "      <td>11050</td>\n",
              "      <td>0,0,0,0,0,1,0</td>\n",
              "      <td>0</td>\n",
              "      <td>0000010</td>\n",
              "      <td>1111101</td>\n",
              "      <td>[(12009, 5), (12216, 5), (12471, 5), (12931, 5...</td>\n",
              "    </tr>\n",
              "    <tr>\n",
              "      <th>2</th>\n",
              "      <td>11079</td>\n",
              "      <td>0,0,0,0,1,0,0</td>\n",
              "      <td>2</td>\n",
              "      <td>0000100</td>\n",
              "      <td>1111011</td>\n",
              "      <td>[(15066, 5), (12107, 4), (12173, 3), (22129, 3...</td>\n",
              "    </tr>\n",
              "    <tr>\n",
              "      <th>3</th>\n",
              "      <td>11088</td>\n",
              "      <td>0,0,0,1,0,0,0</td>\n",
              "      <td>0</td>\n",
              "      <td>0001000</td>\n",
              "      <td>1110111</td>\n",
              "      <td>[(82901, 7), (12009, 5), (12216, 5), (12931, 5...</td>\n",
              "    </tr>\n",
              "    <tr>\n",
              "      <th>4</th>\n",
              "      <td>11090</td>\n",
              "      <td>0,0,0,0,0,0,1</td>\n",
              "      <td>0</td>\n",
              "      <td>0000001</td>\n",
              "      <td>1111110</td>\n",
              "      <td>[(12009, 7), (12931, 7), (19807, 5), (22959, 5...</td>\n",
              "    </tr>\n",
              "  </tbody>\n",
              "</table>\n",
              "</div>"
            ],
            "text/plain": [
              "   Train ID  ...                                         complement\n",
              "0     11045  ...                           [(17610, 2), (11045, 0)]\n",
              "1     11050  ...  [(12009, 5), (12216, 5), (12471, 5), (12931, 5...\n",
              "2     11079  ...  [(15066, 5), (12107, 4), (12173, 3), (22129, 3...\n",
              "3     11088  ...  [(82901, 7), (12009, 5), (12216, 5), (12931, 5...\n",
              "4     11090  ...  [(12009, 7), (12931, 7), (19807, 5), (22959, 5...\n",
              "\n",
              "[5 rows x 6 columns]"
            ]
          },
          "metadata": {
            "tags": []
          },
          "execution_count": 44
        }
      ]
    },
    {
      "cell_type": "code",
      "metadata": {
        "id": "cb3vA44TkVth"
      },
      "source": [
        "data.to_csv('results.csv')"
      ],
      "execution_count": 31,
      "outputs": []
    },
    {
      "cell_type": "code",
      "metadata": {
        "colab": {
          "base_uri": "https://localhost:8080/"
        },
        "id": "WLtPu6hXk1XN",
        "outputId": "705d4297-a8e1-437e-e495-195df6de6665"
      },
      "source": [
        "from google.colab import drive\n",
        "drive.mount('/content/drive')"
      ],
      "execution_count": 27,
      "outputs": [
        {
          "output_type": "stream",
          "text": [
            "Mounted at /content/drive\n"
          ],
          "name": "stdout"
        }
      ]
    },
    {
      "cell_type": "markdown",
      "metadata": {
        "id": "FEXLwhBDkU9I"
      },
      "source": [
        ""
      ]
    },
    {
      "cell_type": "code",
      "metadata": {
        "id": "yx03OazUCtz2"
      },
      "source": [
        "data.to_csv('final_result.csv')\n",
        "!cp final_result.csv \"drive/My Drive/\""
      ],
      "execution_count": 45,
      "outputs": []
    },
    {
      "cell_type": "code",
      "metadata": {
        "id": "wMFUSe13pAgL"
      },
      "source": [
        "## Reference Codes\n",
        "\n",
        "distinct_cluster_list = data['Cluster No'].unique()\n",
        "distinct_cluster_list\n",
        "\n",
        "# [19,  0,  2, 24, 15,  7,  5, 11, 10, 28, 12,  6, 17, 22, 13, 25,  1,\n",
        "      #  26,  3, 14, 18,  8, 20,  4, 16,  9, 21, 23, 29, 27]\n",
        "\n",
        "\n",
        "for cluster in distinct_cluster_list:\n",
        "  # unique_train_ids = data['Train ID'].where(data['Cluster No'] == cluster).unique()\n",
        "  unique_train_ids = data.loc[data['Cluster No'] == cluster]['Train ID'].unique()\n",
        "  print(unique_train_ids)\n",
        "\n",
        "data.loc[data['Train ID'] == 11050].iloc[0]['week'] = '0100110'"
      ],
      "execution_count": null,
      "outputs": []
    }
  ]
}